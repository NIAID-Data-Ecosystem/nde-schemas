{
 "cells": [
  {
   "cell_type": "code",
   "execution_count": null,
   "id": "876be630",
   "metadata": {},
   "outputs": [],
   "source": [
    "from biothings_schema import Schema\n",
    "import os\n",
    "import json\n",
    "\n",
    "script_path = os.getcwd()\n",
    "inputfile = os.path.join(script_path,'NDE_schema.json')\n",
    "with open(inputfile,'r') as infile:\n",
    "    url = json.load(infile)\n",
    "\n",
    "sc = Schema(url)\n",
    "sc.validation"
   ]
  },
  {
   "cell_type": "code",
   "execution_count": null,
   "id": "3e9de5d3",
   "metadata": {},
   "outputs": [],
   "source": []
  }
 ],
 "metadata": {
  "kernelspec": {
   "display_name": "Python 3 (ipykernel)",
   "language": "python",
   "name": "python3"
  },
  "language_info": {
   "codemirror_mode": {
    "name": "ipython",
    "version": 3
   },
   "file_extension": ".py",
   "mimetype": "text/x-python",
   "name": "python",
   "nbconvert_exporter": "python",
   "pygments_lexer": "ipython3",
   "version": "3.10.10"
  }
 },
 "nbformat": 4,
 "nbformat_minor": 5
}
